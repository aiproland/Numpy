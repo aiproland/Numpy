{
 "cells": [
  {
   "cell_type": "markdown",
   "id": "ff0f191f-74aa-4065-9b64-2ea42b850b4d",
   "metadata": {},
   "source": [
    "### Numpy Indexing"
   ]
  },
  {
   "cell_type": "code",
   "execution_count": 1,
   "id": "0727f08a-222d-407c-8b7e-d37de697d2b2",
   "metadata": {},
   "outputs": [],
   "source": [
    "import numpy as np"
   ]
  },
  {
   "cell_type": "markdown",
   "id": "7db65a49-77a8-470f-8146-27c7e0ff7f54",
   "metadata": {},
   "source": [
    "### 1D Array"
   ]
  },
  {
   "cell_type": "code",
   "execution_count": 4,
   "id": "d5f8e35b-2f33-41ef-a669-4ff5b4a31bd9",
   "metadata": {},
   "outputs": [
    {
     "name": "stdout",
     "output_type": "stream",
     "text": [
      "[56 83 12 34 90]\n"
     ]
    }
   ],
   "source": [
    "arr = np.array([56,83,12,34,90], dtype=np.int32)\n",
    "print(arr)"
   ]
  },
  {
   "cell_type": "code",
   "execution_count": 7,
   "id": "c24e3cc2-4947-4277-b49f-0effb321a4bf",
   "metadata": {},
   "outputs": [
    {
     "name": "stdout",
     "output_type": "stream",
     "text": [
      "12\n"
     ]
    }
   ],
   "source": [
    "print(arr[2])"
   ]
  },
  {
   "cell_type": "code",
   "execution_count": 8,
   "id": "ab091272-e64e-4407-ad56-40b12672eae0",
   "metadata": {},
   "outputs": [
    {
     "name": "stdout",
     "output_type": "stream",
     "text": [
      "56\n"
     ]
    }
   ],
   "source": [
    "print(arr[0])"
   ]
  },
  {
   "cell_type": "code",
   "execution_count": 9,
   "id": "8b2fff2a-c4b7-4048-ae19-9e3b992930f4",
   "metadata": {},
   "outputs": [
    {
     "name": "stdout",
     "output_type": "stream",
     "text": [
      "90\n"
     ]
    }
   ],
   "source": [
    "print(arr[4])"
   ]
  },
  {
   "cell_type": "markdown",
   "id": "83ad7252-c182-4752-a2f2-a0fcd810f1c7",
   "metadata": {},
   "source": [
    "### 2D Array"
   ]
  },
  {
   "cell_type": "code",
   "execution_count": 10,
   "id": "958e53d7-af07-419f-a466-6c799bdfe1b9",
   "metadata": {},
   "outputs": [
    {
     "name": "stdout",
     "output_type": "stream",
     "text": [
      "[[1 2 3]\n",
      " [4 5 6]]\n"
     ]
    }
   ],
   "source": [
    "arr2 = np.array([[1,2,3],[4,5,6]])\n",
    "print(arr2)"
   ]
  },
  {
   "cell_type": "code",
   "execution_count": 11,
   "id": "dc2600b3-2a45-4c81-9ccc-7b88ba366e16",
   "metadata": {},
   "outputs": [
    {
     "name": "stdout",
     "output_type": "stream",
     "text": [
      "2\n"
     ]
    }
   ],
   "source": [
    "print(arr2[0,1])"
   ]
  },
  {
   "cell_type": "code",
   "execution_count": 13,
   "id": "526cc30f-a428-47be-9aaa-278ac0dde2e0",
   "metadata": {},
   "outputs": [
    {
     "name": "stdout",
     "output_type": "stream",
     "text": [
      "6\n"
     ]
    }
   ],
   "source": [
    "print(arr2[1,2])"
   ]
  },
  {
   "cell_type": "code",
   "execution_count": 14,
   "id": "55586533-5439-49ce-968b-7142b21dd04d",
   "metadata": {},
   "outputs": [],
   "source": [
    "arr2 = np.array([['q','h'],['a','b']])"
   ]
  },
  {
   "cell_type": "code",
   "execution_count": 16,
   "id": "748ab427-bb42-4ce0-b457-ce6d1daee5de",
   "metadata": {},
   "outputs": [
    {
     "name": "stdout",
     "output_type": "stream",
     "text": [
      "q\n"
     ]
    }
   ],
   "source": [
    "print(arr2[0,0])"
   ]
  },
  {
   "cell_type": "markdown",
   "id": "9861df64-855d-44ac-817c-f87d7b0f907e",
   "metadata": {},
   "source": [
    "### 3D Array"
   ]
  },
  {
   "cell_type": "code",
   "execution_count": 19,
   "id": "c33c41bb-c038-4733-aa8a-beffad2430e4",
   "metadata": {},
   "outputs": [
    {
     "name": "stdout",
     "output_type": "stream",
     "text": [
      "[[[1 2 3]\n",
      "  [4 5 6]\n",
      "  [7 8 9]]]\n"
     ]
    }
   ],
   "source": [
    "arr3 = np.array([[[1,2,3],[4,5,6],[7,8,9]]])\n",
    "print(arr3)"
   ]
  },
  {
   "cell_type": "code",
   "execution_count": 22,
   "id": "5d173b13-e979-4e1e-a7bb-aec32858032d",
   "metadata": {},
   "outputs": [
    {
     "name": "stdout",
     "output_type": "stream",
     "text": [
      "2\n"
     ]
    }
   ],
   "source": [
    "print(arr3[0,0,1])"
   ]
  },
  {
   "cell_type": "code",
   "execution_count": 23,
   "id": "4e9435ea-31b7-4b38-833a-cd93fb60960b",
   "metadata": {},
   "outputs": [
    {
     "name": "stdout",
     "output_type": "stream",
     "text": [
      "7\n"
     ]
    }
   ],
   "source": [
    "print(arr3[0,2,0])"
   ]
  },
  {
   "cell_type": "code",
   "execution_count": null,
   "id": "eb529ac9-d5ef-4510-8297-b9eb4ce5c034",
   "metadata": {},
   "outputs": [],
   "source": []
  },
  {
   "cell_type": "markdown",
   "id": "f8a28175-12f0-4a58-9ebb-3784c31857ca",
   "metadata": {},
   "source": [
    "### Negative Indexing"
   ]
  },
  {
   "cell_type": "code",
   "execution_count": 25,
   "id": "cccd7e69-f144-44cc-a720-36a57b7e40e2",
   "metadata": {},
   "outputs": [
    {
     "name": "stdout",
     "output_type": "stream",
     "text": [
      "90\n"
     ]
    }
   ],
   "source": [
    "arr = np.array([56,83,12,34,90])\n",
    "print(arr[-1])"
   ]
  },
  {
   "cell_type": "code",
   "execution_count": 26,
   "id": "66b2de48-a761-4382-aa46-268adffd1cb8",
   "metadata": {},
   "outputs": [
    {
     "name": "stdout",
     "output_type": "stream",
     "text": [
      "12\n"
     ]
    }
   ],
   "source": [
    "print(arr[-3])"
   ]
  },
  {
   "cell_type": "code",
   "execution_count": 27,
   "id": "0bdeafb2-1e6c-4d82-a2f2-065696752251",
   "metadata": {},
   "outputs": [
    {
     "name": "stdout",
     "output_type": "stream",
     "text": [
      "h\n"
     ]
    }
   ],
   "source": [
    "\n",
    "print(arr2[0,-1])"
   ]
  },
  {
   "cell_type": "code",
   "execution_count": 28,
   "id": "2e4df9ce-4912-486b-93e9-64aa3d5bbb4e",
   "metadata": {},
   "outputs": [
    {
     "name": "stdout",
     "output_type": "stream",
     "text": [
      "a\n"
     ]
    }
   ],
   "source": [
    "print(arr2[1,-2])"
   ]
  },
  {
   "cell_type": "code",
   "execution_count": 29,
   "id": "0e298b13-b70d-4921-99dd-d47a048c101b",
   "metadata": {},
   "outputs": [
    {
     "name": "stdout",
     "output_type": "stream",
     "text": [
      "a\n"
     ]
    }
   ],
   "source": [
    "print(arr2[1,0])"
   ]
  },
  {
   "cell_type": "markdown",
   "id": "527cf69a-937b-40d4-a313-0129080290e0",
   "metadata": {},
   "source": [
    "### Fancy Indexing"
   ]
  },
  {
   "cell_type": "code",
   "execution_count": 31,
   "id": "98908acc-b88d-4f23-9ab2-fb5afcbc81a9",
   "metadata": {},
   "outputs": [
    {
     "name": "stdout",
     "output_type": "stream",
     "text": [
      "[56 12 34]\n"
     ]
    }
   ],
   "source": [
    "arr = np.array([56,83,12,34,90])\n",
    "indexed = [0,2,3]\n",
    "print(arr[indexed])"
   ]
  },
  {
   "cell_type": "code",
   "execution_count": 32,
   "id": "47dcf24a-0499-4ede-8b2f-fd4df3d94439",
   "metadata": {},
   "outputs": [
    {
     "ename": "IndexError",
     "evalue": "too many indices for array: array is 1-dimensional, but 3 were indexed",
     "output_type": "error",
     "traceback": [
      "\u001b[1;31m---------------------------------------------------------------------------\u001b[0m",
      "\u001b[1;31mIndexError\u001b[0m                                Traceback (most recent call last)",
      "Cell \u001b[1;32mIn[32], line 1\u001b[0m\n\u001b[1;32m----> 1\u001b[0m \u001b[38;5;28mprint\u001b[39m(arr[\u001b[38;5;241m0\u001b[39m,\u001b[38;5;241m2\u001b[39m,\u001b[38;5;241m3\u001b[39m])\n",
      "\u001b[1;31mIndexError\u001b[0m: too many indices for array: array is 1-dimensional, but 3 were indexed"
     ]
    }
   ],
   "source": [
    "print(arr[0,2,3])"
   ]
  },
  {
   "cell_type": "code",
   "execution_count": 33,
   "id": "8def1202-71e2-40c2-9391-451956f8b1dc",
   "metadata": {},
   "outputs": [
    {
     "name": "stdout",
     "output_type": "stream",
     "text": [
      "[34 90]\n"
     ]
    }
   ],
   "source": [
    "arr = np.array([56,83,12,34,90])\n",
    "indexed2 = [3,4]\n",
    "print(arr[indexed2])"
   ]
  },
  {
   "cell_type": "markdown",
   "id": "de14c171-9610-472c-851a-276c3f9e01f5",
   "metadata": {},
   "source": [
    "### Boolean Indexing"
   ]
  },
  {
   "cell_type": "code",
   "execution_count": 34,
   "id": "8c6f1413-690c-4258-8e9a-621e2a230c01",
   "metadata": {},
   "outputs": [
    {
     "name": "stdout",
     "output_type": "stream",
     "text": [
      "[56 83 34 90]\n"
     ]
    }
   ],
   "source": [
    "arr = np.array([56,83,12,34,90])\n",
    "cond = arr > 30\n",
    "print(arr[cond])"
   ]
  },
  {
   "cell_type": "code",
   "execution_count": 35,
   "id": "654059bc-003b-49dc-9d9b-0e0813a82ee5",
   "metadata": {},
   "outputs": [
    {
     "name": "stdout",
     "output_type": "stream",
     "text": [
      "[12]\n"
     ]
    }
   ],
   "source": [
    "arr = np.array([56,83,12,34,90])\n",
    "cond1 = arr < 30\n",
    "print(arr[cond1])"
   ]
  },
  {
   "cell_type": "code",
   "execution_count": null,
   "id": "9c41dc22-7b00-410d-aad5-e6e1bb1f7dfe",
   "metadata": {},
   "outputs": [],
   "source": []
  }
 ],
 "metadata": {
  "kernelspec": {
   "display_name": "Python 3 (ipykernel)",
   "language": "python",
   "name": "python3"
  },
  "language_info": {
   "codemirror_mode": {
    "name": "ipython",
    "version": 3
   },
   "file_extension": ".py",
   "mimetype": "text/x-python",
   "name": "python",
   "nbconvert_exporter": "python",
   "pygments_lexer": "ipython3",
   "version": "3.12.5"
  }
 },
 "nbformat": 4,
 "nbformat_minor": 5
}
