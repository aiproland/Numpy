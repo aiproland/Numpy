{
 "cells": [
  {
   "cell_type": "code",
   "execution_count": 1,
   "id": "55ab6415-25ca-4314-8eb0-9aa38b742ef8",
   "metadata": {},
   "outputs": [],
   "source": [
    "import numpy as np"
   ]
  },
  {
   "cell_type": "markdown",
   "id": "f3298055-ffa9-431a-a939-9b4b4932be6a",
   "metadata": {},
   "source": [
    "## Slicing For 1D Array"
   ]
  },
  {
   "cell_type": "code",
   "execution_count": 2,
   "id": "bb4ce411-ea67-453c-95a4-73d7739cd7b7",
   "metadata": {},
   "outputs": [
    {
     "name": "stdout",
     "output_type": "stream",
     "text": [
      "[6 7 8]\n"
     ]
    }
   ],
   "source": [
    "arr1 = np.array([4,5,6,7,8,9])\n",
    "\n",
    "print(arr1[2:5])"
   ]
  },
  {
   "cell_type": "code",
   "execution_count": 3,
   "id": "85d98449-9b71-47d5-8c48-255fda5bf769",
   "metadata": {},
   "outputs": [
    {
     "name": "stdout",
     "output_type": "stream",
     "text": [
      "[4 5]\n"
     ]
    }
   ],
   "source": [
    "print(arr1[0:2])"
   ]
  },
  {
   "cell_type": "code",
   "execution_count": 4,
   "id": "5eabeb06-c8df-446b-9ced-aff7272da05f",
   "metadata": {},
   "outputs": [
    {
     "name": "stdout",
     "output_type": "stream",
     "text": [
      "[5 6 7]\n"
     ]
    }
   ],
   "source": [
    "print(arr1[1:4])"
   ]
  },
  {
   "cell_type": "code",
   "execution_count": 5,
   "id": "b03454b8-bdf3-4405-80f0-b73fc24fa1d4",
   "metadata": {},
   "outputs": [
    {
     "name": "stdout",
     "output_type": "stream",
     "text": [
      "[5 6 7 8 9]\n"
     ]
    }
   ],
   "source": [
    "print(arr1[1:])"
   ]
  },
  {
   "cell_type": "code",
   "execution_count": 6,
   "id": "bb54301e-1c55-4af1-a497-410dc22b024b",
   "metadata": {},
   "outputs": [
    {
     "name": "stdout",
     "output_type": "stream",
     "text": [
      "[4 5 6]\n"
     ]
    }
   ],
   "source": [
    "print(arr1[:3])"
   ]
  },
  {
   "cell_type": "markdown",
   "id": "c34a9a75-2937-4703-83c9-d29bfd85528a",
   "metadata": {},
   "source": [
    "## Negative Slicing"
   ]
  },
  {
   "cell_type": "code",
   "execution_count": 7,
   "id": "e23f4c04-9f12-4cda-b0c8-1627f3300739",
   "metadata": {},
   "outputs": [
    {
     "name": "stdout",
     "output_type": "stream",
     "text": [
      "[7 8]\n"
     ]
    }
   ],
   "source": [
    "arr1 = np.array([4,5,6,7,8,9])\n",
    "\n",
    "print(arr1[-3:-1])"
   ]
  },
  {
   "cell_type": "code",
   "execution_count": 8,
   "id": "bfa09e9b-064a-418c-9485-7b9618b50e78",
   "metadata": {},
   "outputs": [
    {
     "name": "stdout",
     "output_type": "stream",
     "text": [
      "[7 8 9]\n"
     ]
    }
   ],
   "source": [
    "print(arr1[-3:])"
   ]
  },
  {
   "cell_type": "code",
   "execution_count": 14,
   "id": "111957ef-2c34-4708-9bd3-230b40375329",
   "metadata": {},
   "outputs": [
    {
     "name": "stdout",
     "output_type": "stream",
     "text": [
      "[4 7]\n"
     ]
    }
   ],
   "source": [
    "print(arr1[0:5:3])"
   ]
  },
  {
   "cell_type": "markdown",
   "id": "b855f200-c8f1-4e69-b9b5-dc0d18f89b31",
   "metadata": {},
   "source": [
    "## Slicing For 2D Array"
   ]
  },
  {
   "cell_type": "code",
   "execution_count": 17,
   "id": "03610a11-8768-47ec-8776-d9459923501a",
   "metadata": {},
   "outputs": [
    {
     "name": "stdout",
     "output_type": "stream",
     "text": [
      "[[1 2 3]\n",
      " [4 5 6]]\n"
     ]
    }
   ],
   "source": [
    "arr2 = np.array([[1,2,3],[4,5,6]])\n",
    "print(arr2)"
   ]
  },
  {
   "cell_type": "code",
   "execution_count": 18,
   "id": "44fdb914-0a07-4723-8abf-b7eb27e8d611",
   "metadata": {},
   "outputs": [
    {
     "name": "stdout",
     "output_type": "stream",
     "text": [
      "[2 3]\n"
     ]
    }
   ],
   "source": [
    "print(arr2[0, 1:])"
   ]
  },
  {
   "cell_type": "code",
   "execution_count": 19,
   "id": "cfe3526d-8366-4760-8da9-7f6b080d7e6f",
   "metadata": {},
   "outputs": [
    {
     "name": "stdout",
     "output_type": "stream",
     "text": [
      "[1 2]\n"
     ]
    }
   ],
   "source": [
    "print(arr2[0, 0:2])"
   ]
  },
  {
   "cell_type": "code",
   "execution_count": 20,
   "id": "4c543b9e-e3ac-48ec-ba1d-f18ba5ae0df2",
   "metadata": {},
   "outputs": [
    {
     "name": "stdout",
     "output_type": "stream",
     "text": [
      "[[1 2]\n",
      " [4 5]]\n"
     ]
    }
   ],
   "source": [
    "print(arr2[0:2, 0:2])"
   ]
  },
  {
   "cell_type": "code",
   "execution_count": 21,
   "id": "6b37096d-7f57-49b4-a434-47fc811e7f50",
   "metadata": {},
   "outputs": [
    {
     "name": "stdout",
     "output_type": "stream",
     "text": [
      "[[2 3]\n",
      " [5 6]]\n"
     ]
    }
   ],
   "source": [
    "print(arr2[0:2, 1:])"
   ]
  },
  {
   "cell_type": "code",
   "execution_count": 22,
   "id": "11bb16fb-b5f6-4b3e-8ffa-c88c9f0197d4",
   "metadata": {},
   "outputs": [
    {
     "name": "stdout",
     "output_type": "stream",
     "text": [
      "[3 6]\n"
     ]
    }
   ],
   "source": [
    "print(arr2[0:2, 2])"
   ]
  },
  {
   "cell_type": "code",
   "execution_count": 41,
   "id": "75e99f68-d279-40d4-ab10-deb93b087b9f",
   "metadata": {},
   "outputs": [
    {
     "name": "stdout",
     "output_type": "stream",
     "text": [
      "[9 8 7 6 5 4]\n"
     ]
    }
   ],
   "source": [
    "arr1 = np.array([4,5,6,7,8,9])\n",
    "print(arr1[::-1])"
   ]
  },
  {
   "cell_type": "code",
   "execution_count": null,
   "id": "30fc1cb3-a38c-49e5-8bcc-b6ac20a6cf4e",
   "metadata": {},
   "outputs": [],
   "source": []
  }
 ],
 "metadata": {
  "kernelspec": {
   "display_name": "Python 3 (ipykernel)",
   "language": "python",
   "name": "python3"
  },
  "language_info": {
   "codemirror_mode": {
    "name": "ipython",
    "version": 3
   },
   "file_extension": ".py",
   "mimetype": "text/x-python",
   "name": "python",
   "nbconvert_exporter": "python",
   "pygments_lexer": "ipython3",
   "version": "3.12.5"
  }
 },
 "nbformat": 4,
 "nbformat_minor": 5
}
