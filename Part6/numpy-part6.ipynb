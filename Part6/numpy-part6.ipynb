{
 "cells": [
  {
   "cell_type": "markdown",
   "id": "f16e233d-0c67-4f12-b73b-11b4d81d0464",
   "metadata": {},
   "source": [
    "# Chapter 6 - NUMPY OPERATIONS"
   ]
  },
  {
   "cell_type": "markdown",
   "id": "9430488e-6dfe-47e5-a372-f94cc2835e7d",
   "metadata": {},
   "source": [
    "## Arithmetic Functions"
   ]
  },
  {
   "cell_type": "code",
   "execution_count": 19,
   "id": "74e03d29-1ec6-406d-b6e5-98a91c17e270",
   "metadata": {},
   "outputs": [],
   "source": [
    "import numpy as np"
   ]
  },
  {
   "cell_type": "code",
   "execution_count": 22,
   "id": "42d3c842-e64e-4764-81e6-09815ed2a78f",
   "metadata": {},
   "outputs": [
    {
     "name": "stdout",
     "output_type": "stream",
     "text": [
      "[[ 4 10  6  5 15]\n",
      " [ 7 10  6 12 15]]\n"
     ]
    }
   ],
   "source": [
    "## np.add(arr1,arr2)\n",
    "a1 = np.array([[1, 2, 3, 4, 5], [6, 8, 3, 8, 10]])\n",
    "a2 = np.array([[3, 8, 3, 1, 10],[1, 2, 3, 4, 5]])\n",
    "\n",
    "print(np.add(a1,a2))"
   ]
  },
  {
   "cell_type": "code",
   "execution_count": 24,
   "id": "a9bdf7f4-c5b8-41b6-85c1-978981fd35b2",
   "metadata": {},
   "outputs": [
    {
     "name": "stdout",
     "output_type": "stream",
     "text": [
      "[ 5  7  9 11 13]\n",
      "[1 3 5 7 9]\n",
      "[4 4 4 4 4]\n"
     ]
    }
   ],
   "source": [
    "## np.subtract(arr1,arr2)\n",
    "a3 = np.arange(5, 15, 2)\n",
    "a4 = np.arange(1, 11, 2)\n",
    "\n",
    "print(a3)\n",
    "print(a4)\n",
    "print(np.subtract(a3,a4))"
   ]
  },
  {
   "cell_type": "code",
   "execution_count": 26,
   "id": "1653eed8-f57b-419b-b560-fd86f3f7294a",
   "metadata": {},
   "outputs": [
    {
     "name": "stdout",
     "output_type": "stream",
     "text": [
      "[ 5  7  9 11 13]\n",
      "[1 3 5 7 9]\n",
      "[  5  21  45  77 117]\n"
     ]
    }
   ],
   "source": [
    "## np.multiply(arr1,arr2)\n",
    "a3 = np.arange(5, 15, 2)\n",
    "a4 = np.arange(1, 11, 2)\n",
    "\n",
    "print(a3)\n",
    "print(a4)\n",
    "print(np.multiply(a3,a4))"
   ]
  },
  {
   "cell_type": "code",
   "execution_count": 27,
   "id": "b07dd366-18da-4191-a1cb-e10f43ee84dc",
   "metadata": {},
   "outputs": [
    {
     "name": "stdout",
     "output_type": "stream",
     "text": [
      "[[0.33333333 0.25       1.         4.         0.5       ]\n",
      " [6.         4.         1.         2.         2.        ]]\n"
     ]
    }
   ],
   "source": [
    "## np.divide(arr1,arr2)\n",
    "a1 = np.array([[1, 2, 3, 4, 5], [6, 8, 3, 8, 10]])\n",
    "a2 = np.array([[3, 8, 3, 1, 10],[1, 2, 3, 4, 5]])\n",
    "\n",
    "print(np.divide(a1,a2))"
   ]
  },
  {
   "cell_type": "code",
   "execution_count": 28,
   "id": "8f0bae0f-3d94-4895-b9ac-965509f7a719",
   "metadata": {},
   "outputs": [
    {
     "name": "stdout",
     "output_type": "stream",
     "text": [
      "[0 4 2]\n"
     ]
    }
   ],
   "source": [
    "## np.mod(arr1,arr2)\n",
    "a5 = np.array([10,24,67])\n",
    "a6 = np.array([2,10,5])\n",
    "\n",
    "print(np.mod(a5,a6))"
   ]
  },
  {
   "cell_type": "code",
   "execution_count": 29,
   "id": "166fe254-c91f-4e54-94a3-3d736a3df9d8",
   "metadata": {},
   "outputs": [
    {
     "name": "stdout",
     "output_type": "stream",
     "text": [
      "[0 4 2]\n"
     ]
    }
   ],
   "source": [
    "## np.remainder(arr1,arr2)\n",
    "\n",
    "a5 = np.array([10,24,67])\n",
    "a6 = np.array([2,10,5])\n",
    "\n",
    "print(np.remainder(a5,a6))"
   ]
  },
  {
   "cell_type": "code",
   "execution_count": 30,
   "id": "948d2861-4710-49e8-a268-9fbcdaa2b45c",
   "metadata": {},
   "outputs": [
    {
     "name": "stdout",
     "output_type": "stream",
     "text": [
      "[  4 100  25]\n"
     ]
    }
   ],
   "source": [
    "## np.power(arr1,value)\n",
    "\n",
    "a6 = np.array([2,10,5])\n",
    "\n",
    "print(np.power(a6, 2))"
   ]
  },
  {
   "cell_type": "code",
   "execution_count": 31,
   "id": "2d1e58cf-1d21-412e-8f24-0d5e009043d7",
   "metadata": {},
   "outputs": [
    {
     "name": "stdout",
     "output_type": "stream",
     "text": [
      "[1.41421356 3.16227766 2.23606798]\n"
     ]
    }
   ],
   "source": [
    "## np.sqrt(arr1)\n",
    "\n",
    "a7 = np.array([2,9,64])\n",
    "\n",
    "print(np.sqrt(a6))"
   ]
  },
  {
   "cell_type": "code",
   "execution_count": 32,
   "id": "0bb6a63e-d5d8-4acf-820b-030f33e0dd46",
   "metadata": {},
   "outputs": [
    {
     "name": "stdout",
     "output_type": "stream",
     "text": [
      "[ 2  0 64]\n"
     ]
    }
   ],
   "source": [
    "## np.absolute(arr1)\n",
    "\n",
    "a8 = np.array([-2,0,-64])\n",
    "print(np.absolute(a8))"
   ]
  },
  {
   "cell_type": "markdown",
   "id": "1734b778-97ba-49dc-b075-9b126611adf5",
   "metadata": {},
   "source": [
    "## Aggregation Functions"
   ]
  },
  {
   "cell_type": "code",
   "execution_count": 33,
   "id": "487186b7-d42f-4f85-9c37-79e45fc47a17",
   "metadata": {},
   "outputs": [
    {
     "name": "stdout",
     "output_type": "stream",
     "text": [
      "75\n"
     ]
    }
   ],
   "source": [
    "## np.sum(arr)\n",
    "a7 = np.array([2,9,64])\n",
    "print(np.sum(a7))"
   ]
  },
  {
   "cell_type": "code",
   "execution_count": 35,
   "id": "0327faea-946f-45ed-82b0-bb7f0dd7da82",
   "metadata": {},
   "outputs": [
    {
     "name": "stdout",
     "output_type": "stream",
     "text": [
      "9\n"
     ]
    }
   ],
   "source": [
    "## np.sum([arr1,arr2])\n",
    "a7 = np.array([2,9,64])\n",
    "a8 = np.array([-2,0,-64])\n",
    "\n",
    "## [a7,a8] = np.array([2,9,64,-2,0,-64 ])\n",
    "print(np.sum([a7,a8]))\n"
   ]
  },
  {
   "cell_type": "code",
   "execution_count": 36,
   "id": "12df2694-4bb6-40bd-8c11-c0a80fcdefba",
   "metadata": {},
   "outputs": [
    {
     "ename": "TypeError",
     "evalue": "only integer scalar arrays can be converted to a scalar index",
     "output_type": "error",
     "traceback": [
      "\u001b[1;31m---------------------------------------------------------------------------\u001b[0m",
      "\u001b[1;31mTypeError\u001b[0m                                 Traceback (most recent call last)",
      "Cell \u001b[1;32mIn[36], line 1\u001b[0m\n\u001b[1;32m----> 1\u001b[0m \u001b[38;5;28mprint\u001b[39m(np\u001b[38;5;241m.\u001b[39msum(a7,a8))\n",
      "File \u001b[1;32m~\\anaconda3\\envs\\test\\Lib\\site-packages\\numpy\\_core\\fromnumeric.py:2485\u001b[0m, in \u001b[0;36msum\u001b[1;34m(a, axis, dtype, out, keepdims, initial, where)\u001b[0m\n\u001b[0;32m   2482\u001b[0m         \u001b[38;5;28;01mreturn\u001b[39;00m out\n\u001b[0;32m   2483\u001b[0m     \u001b[38;5;28;01mreturn\u001b[39;00m res\n\u001b[1;32m-> 2485\u001b[0m \u001b[38;5;28;01mreturn\u001b[39;00m _wrapreduction(\n\u001b[0;32m   2486\u001b[0m     a, np\u001b[38;5;241m.\u001b[39madd, \u001b[38;5;124m'\u001b[39m\u001b[38;5;124msum\u001b[39m\u001b[38;5;124m'\u001b[39m, axis, dtype, out,\n\u001b[0;32m   2487\u001b[0m     keepdims\u001b[38;5;241m=\u001b[39mkeepdims, initial\u001b[38;5;241m=\u001b[39minitial, where\u001b[38;5;241m=\u001b[39mwhere\n\u001b[0;32m   2488\u001b[0m )\n",
      "File \u001b[1;32m~\\anaconda3\\envs\\test\\Lib\\site-packages\\numpy\\_core\\fromnumeric.py:86\u001b[0m, in \u001b[0;36m_wrapreduction\u001b[1;34m(obj, ufunc, method, axis, dtype, out, **kwargs)\u001b[0m\n\u001b[0;32m     83\u001b[0m         \u001b[38;5;28;01melse\u001b[39;00m:\n\u001b[0;32m     84\u001b[0m             \u001b[38;5;28;01mreturn\u001b[39;00m reduction(axis\u001b[38;5;241m=\u001b[39maxis, out\u001b[38;5;241m=\u001b[39mout, \u001b[38;5;241m*\u001b[39m\u001b[38;5;241m*\u001b[39mpasskwargs)\n\u001b[1;32m---> 86\u001b[0m \u001b[38;5;28;01mreturn\u001b[39;00m ufunc\u001b[38;5;241m.\u001b[39mreduce(obj, axis, dtype, out, \u001b[38;5;241m*\u001b[39m\u001b[38;5;241m*\u001b[39mpasskwargs)\n",
      "\u001b[1;31mTypeError\u001b[0m: only integer scalar arrays can be converted to a scalar index"
     ]
    }
   ],
   "source": [
    "print(np.sum(a7,a8))"
   ]
  },
  {
   "cell_type": "code",
   "execution_count": 39,
   "id": "2b2e2964-13da-4afe-9b8e-3f6865ca4500",
   "metadata": {},
   "outputs": [
    {
     "name": "stdout",
     "output_type": "stream",
     "text": [
      "108\n"
     ]
    }
   ],
   "source": [
    "## np.prod(arr)\n",
    "a9 = np.array([2,9,6])\n",
    "print(np.prod(a9))"
   ]
  },
  {
   "cell_type": "code",
   "execution_count": 38,
   "id": "19a5e695-3163-494f-b6d2-4219382e7161",
   "metadata": {},
   "outputs": [
    {
     "name": "stdout",
     "output_type": "stream",
     "text": [
      "-3240\n"
     ]
    }
   ],
   "source": [
    "## np.prod([arr1,arr2])\n",
    "\n",
    "a9 = np.array([2,9,6])\n",
    "a10 = np.array([-2,5,3])\n",
    "\n",
    "print(np.prod([a9,a10]))"
   ]
  },
  {
   "cell_type": "code",
   "execution_count": 40,
   "id": "8c9d60e0-87d2-4739-b38c-15c20a25769a",
   "metadata": {},
   "outputs": [
    {
     "name": "stdout",
     "output_type": "stream",
     "text": [
      "-2\n"
     ]
    }
   ],
   "source": [
    "## np.min(arr)\n",
    "a10 = np.array([-2,5,3])\n",
    "print(np.min(a10))"
   ]
  },
  {
   "cell_type": "code",
   "execution_count": 41,
   "id": "55be02ba-c3a0-41d5-adbd-cf42e994338d",
   "metadata": {},
   "outputs": [
    {
     "name": "stdout",
     "output_type": "stream",
     "text": [
      "5\n"
     ]
    }
   ],
   "source": [
    "## np.max(arr)\n",
    "a10 = np.array([-2,5,3])\n",
    "print(np.max(a10))"
   ]
  },
  {
   "cell_type": "code",
   "execution_count": 42,
   "id": "43697617-7da4-4c0b-b3d0-2b6733270c68",
   "metadata": {},
   "outputs": [
    {
     "name": "stdout",
     "output_type": "stream",
     "text": [
      "2.0\n"
     ]
    }
   ],
   "source": [
    "## np.mean(arr)\n",
    "a10 = np.array([-2,5,3])\n",
    "print(np.mean(a10))"
   ]
  },
  {
   "cell_type": "code",
   "execution_count": 45,
   "id": "aca9db83-429e-4f93-9d60-7bbd337d6b7e",
   "metadata": {},
   "outputs": [
    {
     "name": "stdout",
     "output_type": "stream",
     "text": [
      "5.333333333333333\n"
     ]
    }
   ],
   "source": [
    "## np.median(arr)\n",
    "\n",
    "a10 = np.array([6,7,3])\n",
    "print(np.mean(a10))"
   ]
  },
  {
   "cell_type": "code",
   "execution_count": 46,
   "id": "14cfcbf5-f2de-4661-a662-5c87fd7ac2e8",
   "metadata": {},
   "outputs": [
    {
     "name": "stdout",
     "output_type": "stream",
     "text": [
      "1.699673171197595\n"
     ]
    }
   ],
   "source": [
    "## np.std(arr)\n",
    "\n",
    "a10 = np.array([6,7,3])\n",
    "print(np.std(a10))"
   ]
  },
  {
   "cell_type": "code",
   "execution_count": 47,
   "id": "c0d6633d-9a72-4eca-8bab-fece26123045",
   "metadata": {},
   "outputs": [
    {
     "name": "stdout",
     "output_type": "stream",
     "text": [
      "2.888888888888889\n"
     ]
    }
   ],
   "source": [
    "## np.var(arr)\n",
    "\n",
    "a10 = np.array([6,7,3])\n",
    "print(np.var(a10))"
   ]
  },
  {
   "cell_type": "markdown",
   "id": "9165c9ab-119b-4c96-a1ed-50258d38e467",
   "metadata": {},
   "source": [
    "## Exceptions! Element-Wise Operations"
   ]
  },
  {
   "cell_type": "code",
   "execution_count": null,
   "id": "73a1c609-5ba7-43cc-9dc3-762539704d00",
   "metadata": {},
   "outputs": [],
   "source": [
    "## np.sum(arr1,arr2)"
   ]
  },
  {
   "cell_type": "code",
   "execution_count": 49,
   "id": "2925eda9-6d20-48c8-94fd-36f532942b08",
   "metadata": {},
   "outputs": [
    {
     "name": "stdout",
     "output_type": "stream",
     "text": [
      "[0 9 0]\n"
     ]
    }
   ],
   "source": [
    "## np.sum([arr1,arr2], axis=0)\n",
    "\n",
    "a7 = np.array([2,9,64])\n",
    "a8 = np.array([-2,0,-64])\n",
    "\n",
    "print(np.sum([a7,a8], axis=0))"
   ]
  },
  {
   "cell_type": "code",
   "execution_count": 50,
   "id": "7bfe563a-56f4-466c-9e9f-eeda7088aca0",
   "metadata": {},
   "outputs": [
    {
     "name": "stdout",
     "output_type": "stream",
     "text": [
      "[ 75 -66]\n"
     ]
    }
   ],
   "source": [
    "## np.sum([arr1,arr2], axis=1)\n",
    "\n",
    "a7 = np.array([2,9,64])\n",
    "a8 = np.array([-2,0,-64])\n",
    "\n",
    "print(np.sum([a7,a8], axis=1))"
   ]
  },
  {
   "cell_type": "code",
   "execution_count": 53,
   "id": "bf5e56f2-e19c-405a-af58-9cf164c820b5",
   "metadata": {},
   "outputs": [
    {
     "ename": "TypeError",
     "evalue": "only integer scalar arrays can be converted to a scalar index",
     "output_type": "error",
     "traceback": [
      "\u001b[1;31m---------------------------------------------------------------------------\u001b[0m",
      "\u001b[1;31mTypeError\u001b[0m                                 Traceback (most recent call last)",
      "Cell \u001b[1;32mIn[53], line 2\u001b[0m\n\u001b[0;32m      1\u001b[0m \u001b[38;5;66;03m## np.prod(arr1,arr2)\u001b[39;00m\n\u001b[1;32m----> 2\u001b[0m \u001b[38;5;28mprint\u001b[39m(np\u001b[38;5;241m.\u001b[39mprod(a11,a12))\n",
      "File \u001b[1;32m~\\anaconda3\\envs\\test\\Lib\\site-packages\\numpy\\_core\\fromnumeric.py:3493\u001b[0m, in \u001b[0;36mprod\u001b[1;34m(a, axis, dtype, out, keepdims, initial, where)\u001b[0m\n\u001b[0;32m   3369\u001b[0m \u001b[38;5;129m@array_function_dispatch\u001b[39m(_prod_dispatcher)\n\u001b[0;32m   3370\u001b[0m \u001b[38;5;28;01mdef\u001b[39;00m \u001b[38;5;21mprod\u001b[39m(a, axis\u001b[38;5;241m=\u001b[39m\u001b[38;5;28;01mNone\u001b[39;00m, dtype\u001b[38;5;241m=\u001b[39m\u001b[38;5;28;01mNone\u001b[39;00m, out\u001b[38;5;241m=\u001b[39m\u001b[38;5;28;01mNone\u001b[39;00m, keepdims\u001b[38;5;241m=\u001b[39mnp\u001b[38;5;241m.\u001b[39m_NoValue,\n\u001b[0;32m   3371\u001b[0m          initial\u001b[38;5;241m=\u001b[39mnp\u001b[38;5;241m.\u001b[39m_NoValue, where\u001b[38;5;241m=\u001b[39mnp\u001b[38;5;241m.\u001b[39m_NoValue):\n\u001b[0;32m   3372\u001b[0m \u001b[38;5;250m    \u001b[39m\u001b[38;5;124;03m\"\"\"\u001b[39;00m\n\u001b[0;32m   3373\u001b[0m \u001b[38;5;124;03m    Return the product of array elements over a given axis.\u001b[39;00m\n\u001b[0;32m   3374\u001b[0m \n\u001b[1;32m   (...)\u001b[0m\n\u001b[0;32m   3491\u001b[0m \u001b[38;5;124;03m    10\u001b[39;00m\n\u001b[0;32m   3492\u001b[0m \u001b[38;5;124;03m    \"\"\"\u001b[39;00m\n\u001b[1;32m-> 3493\u001b[0m     \u001b[38;5;28;01mreturn\u001b[39;00m _wrapreduction(a, np\u001b[38;5;241m.\u001b[39mmultiply, \u001b[38;5;124m'\u001b[39m\u001b[38;5;124mprod\u001b[39m\u001b[38;5;124m'\u001b[39m, axis, dtype, out,\n\u001b[0;32m   3494\u001b[0m                           keepdims\u001b[38;5;241m=\u001b[39mkeepdims, initial\u001b[38;5;241m=\u001b[39minitial, where\u001b[38;5;241m=\u001b[39mwhere)\n",
      "File \u001b[1;32m~\\anaconda3\\envs\\test\\Lib\\site-packages\\numpy\\_core\\fromnumeric.py:86\u001b[0m, in \u001b[0;36m_wrapreduction\u001b[1;34m(obj, ufunc, method, axis, dtype, out, **kwargs)\u001b[0m\n\u001b[0;32m     83\u001b[0m         \u001b[38;5;28;01melse\u001b[39;00m:\n\u001b[0;32m     84\u001b[0m             \u001b[38;5;28;01mreturn\u001b[39;00m reduction(axis\u001b[38;5;241m=\u001b[39maxis, out\u001b[38;5;241m=\u001b[39mout, \u001b[38;5;241m*\u001b[39m\u001b[38;5;241m*\u001b[39mpasskwargs)\n\u001b[1;32m---> 86\u001b[0m \u001b[38;5;28;01mreturn\u001b[39;00m ufunc\u001b[38;5;241m.\u001b[39mreduce(obj, axis, dtype, out, \u001b[38;5;241m*\u001b[39m\u001b[38;5;241m*\u001b[39mpasskwargs)\n",
      "\u001b[1;31mTypeError\u001b[0m: only integer scalar arrays can be converted to a scalar index"
     ]
    }
   ],
   "source": [
    "## np.prod(arr1,arr2)\n",
    "print(np.prod(a11,a12))"
   ]
  },
  {
   "cell_type": "code",
   "execution_count": 52,
   "id": "6ee7835c-f7a9-4644-8e95-375b7641254a",
   "metadata": {},
   "outputs": [
    {
     "name": "stdout",
     "output_type": "stream",
     "text": [
      "[20  3 10]\n"
     ]
    }
   ],
   "source": [
    "## np.prod([arr1,arr2], axis=0)\n",
    "\n",
    "a11 = np.array([2,1,5])\n",
    "a12 = np.array([10,3,2])\n",
    "\n",
    "print(np.prod([a11,a12], axis=0))"
   ]
  },
  {
   "cell_type": "code",
   "execution_count": 54,
   "id": "6bb38de2-0906-4f22-8ec2-d0dd52f1da9b",
   "metadata": {},
   "outputs": [
    {
     "name": "stdout",
     "output_type": "stream",
     "text": [
      "[10 60]\n"
     ]
    }
   ],
   "source": [
    "## np.prod([arr1,arr2], axis=1)\n",
    "\n",
    "a11 = np.array([2,1,5])\n",
    "a12 = np.array([10,3,2])\n",
    "\n",
    "print(np.prod([a11,a12], axis=1))"
   ]
  },
  {
   "cell_type": "markdown",
   "id": "902415cc-f725-4119-a603-4a0053e404fb",
   "metadata": {},
   "source": [
    "## Matrix Manipulations"
   ]
  },
  {
   "cell_type": "code",
   "execution_count": 57,
   "id": "7eb29b04-ea27-4324-aa93-0ba65851845d",
   "metadata": {},
   "outputs": [
    {
     "name": "stdout",
     "output_type": "stream",
     "text": [
      "[[1. 2. 3.]\n",
      " [4. 5. 6.]]\n"
     ]
    }
   ],
   "source": [
    "## np.dot(arr,value)\n",
    "\n",
    "x = np.array([[1., 2., 3.], [4., 5., 6.]])\n",
    "\n",
    "print(x)"
   ]
  },
  {
   "cell_type": "code",
   "execution_count": 58,
   "id": "b2579f81-ab27-4cbb-9d30-cf28000d859c",
   "metadata": {},
   "outputs": [
    {
     "name": "stdout",
     "output_type": "stream",
     "text": [
      "[[ 2.  4.  6.]\n",
      " [ 8. 10. 12.]]\n"
     ]
    }
   ],
   "source": [
    "print(np.dot(x, 2))"
   ]
  },
  {
   "cell_type": "code",
   "execution_count": null,
   "id": "1cfe36e6-3b07-4729-b66d-43dfc81fa543",
   "metadata": {},
   "outputs": [],
   "source": [
    "## np.dot(arr1,arr2)  ## arr1 =[M✖N] , arr2 = [N✖K]  ->    np.dot(arr1,arr2) = [M✖K]"
   ]
  },
  {
   "cell_type": "code",
   "execution_count": 59,
   "id": "ec87d060-b0d3-4802-a435-bb372b83ef86",
   "metadata": {},
   "outputs": [
    {
     "name": "stdout",
     "output_type": "stream",
     "text": [
      "(2, 3) (3, 2)\n",
      "[[ 28.  64.]\n",
      " [ 67. 181.]]\n"
     ]
    }
   ],
   "source": [
    "x = np.array([[1., 2., 3.], [4., 5., 6.]])\n",
    "y = np.array([[6., 23.], [-1, 7], [8, 9]])\n",
    "print(x.shape, y.shape)\n",
    "\n",
    "print(np.dot(x,y))"
   ]
  },
  {
   "cell_type": "code",
   "execution_count": 62,
   "id": "6a7923f1-5776-4cfc-90cb-7e34aeb3b023",
   "metadata": {},
   "outputs": [
    {
     "name": "stdout",
     "output_type": "stream",
     "text": [
      "[[ 6. 23.]\n",
      " [-1.  7.]\n",
      " [ 8.  9.]]\n",
      "(3, 2)\n",
      "[[ 6. -1.  8.]\n",
      " [23.  7.  9.]]\n"
     ]
    }
   ],
   "source": [
    "## arr.transpose()\n",
    "\n",
    "y = np.array([[6., 23.], [-1, 7], [8, 9]])\n",
    "\n",
    "print(y)\n",
    "print(y.shape)\n",
    "\n",
    "print(y.transpose())"
   ]
  },
  {
   "cell_type": "code",
   "execution_count": 63,
   "id": "9ac143ad-68a2-4a4e-bf0a-8c45d3930b8c",
   "metadata": {},
   "outputs": [
    {
     "name": "stdout",
     "output_type": "stream",
     "text": [
      "[ 6. 23. -1.  7.  8.  9.]\n"
     ]
    }
   ],
   "source": [
    "## arr.flatten()\n",
    "\n",
    "y = np.array([[6., 23.], [-1, 7], [8, 9]]) # 2D array\n",
    "\n",
    "print(y.flatten())"
   ]
  },
  {
   "cell_type": "code",
   "execution_count": 67,
   "id": "acfe0338-2c54-4de0-8985-b2dbc983fed8",
   "metadata": {},
   "outputs": [
    {
     "name": "stdout",
     "output_type": "stream",
     "text": [
      "[1 2 3 4 5 6 7 8]\n",
      "(8,)\n"
     ]
    }
   ],
   "source": [
    "c3 = np.array([[[1, 2], [3, 4]], [[5, 6], [7, 8]]])\n",
    "\n",
    "print(c3.flatten())\n",
    "\n",
    "temp = c3.flatten()\n",
    "print(temp.shape)"
   ]
  },
  {
   "cell_type": "code",
   "execution_count": 76,
   "id": "ddc9de08-f697-4f87-961f-5deec7d475e6",
   "metadata": {},
   "outputs": [
    {
     "name": "stdout",
     "output_type": "stream",
     "text": [
      "[[ 1.  2.  3.  6. 23.  9.]\n",
      " [ 4.  5.  6. -1.  7.  8.]]\n"
     ]
    }
   ],
   "source": [
    "## np.hstack(arr1,arr2) # Concatenate horizontally\n",
    "\n",
    "x = np.array([[1., 2., 3.], [4., 5., 6.]])\n",
    "y = np.array([[6., 23., 9], [-1, 7, 8]])\n",
    "\n",
    "print(np.hstack((x,y)))"
   ]
  },
  {
   "cell_type": "code",
   "execution_count": 77,
   "id": "24957d90-d880-49d1-83ae-e438d5890930",
   "metadata": {},
   "outputs": [
    {
     "name": "stdout",
     "output_type": "stream",
     "text": [
      "[[ 1.  2.  3.]\n",
      " [ 4.  5.  6.]\n",
      " [ 6. 23.  9.]\n",
      " [-1.  7.  8.]]\n"
     ]
    }
   ],
   "source": [
    "## np.vstack(arr1,arr2) # Concatenate vertically\n",
    "\n",
    "x = np.array([[1., 2., 3.], [4., 5., 6.]])\n",
    "y = np.array([[6., 23., 9], [-1, 7, 8]])\n",
    "\n",
    "print(np.vstack((x,y)))"
   ]
  },
  {
   "cell_type": "code",
   "execution_count": null,
   "id": "84b54b85-de8a-4e61-bc7f-c971340f16c2",
   "metadata": {},
   "outputs": [],
   "source": []
  }
 ],
 "metadata": {
  "kernelspec": {
   "display_name": "Python 3 (ipykernel)",
   "language": "python",
   "name": "python3"
  },
  "language_info": {
   "codemirror_mode": {
    "name": "ipython",
    "version": 3
   },
   "file_extension": ".py",
   "mimetype": "text/x-python",
   "name": "python",
   "nbconvert_exporter": "python",
   "pygments_lexer": "ipython3",
   "version": "3.12.5"
  }
 },
 "nbformat": 4,
 "nbformat_minor": 5
}
