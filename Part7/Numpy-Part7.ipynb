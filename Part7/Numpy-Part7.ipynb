{
 "cells": [
  {
   "cell_type": "markdown",
   "id": "7b5ad476-45a9-4f42-80cc-7e417ec72407",
   "metadata": {},
   "source": [
    "## Numpy Search"
   ]
  },
  {
   "cell_type": "code",
   "execution_count": 13,
   "id": "0534861c-4456-4c79-970d-18aa96c2dc32",
   "metadata": {},
   "outputs": [],
   "source": [
    "import numpy as np"
   ]
  },
  {
   "cell_type": "markdown",
   "id": "04eaa030-618b-4baa-ba44-e2c087ba6cf9",
   "metadata": {},
   "source": [
    "### where()"
   ]
  },
  {
   "cell_type": "code",
   "execution_count": 14,
   "id": "8f9ce6bd-c8f5-4fd0-a194-d1118ba201fe",
   "metadata": {},
   "outputs": [
    {
     "name": "stdout",
     "output_type": "stream",
     "text": [
      "(array([0, 3, 5]),)\n"
     ]
    }
   ],
   "source": [
    "arr = np.array([4, 2, 3, 4, 5, 4, 3])\n",
    "\n",
    "# search in the array and return the index of the element\n",
    "res = np.where(arr == 4)\n",
    "\n",
    "print(res)"
   ]
  },
  {
   "cell_type": "code",
   "execution_count": 15,
   "id": "ce0f4232-d36f-40b7-9c6b-12b92d98b1da",
   "metadata": {},
   "outputs": [
    {
     "name": "stdout",
     "output_type": "stream",
     "text": [
      "(array([2, 6]),)\n"
     ]
    }
   ],
   "source": [
    "arr = np.array([4, 2, 3, 4, 5, 4, 3])\n",
    "\n",
    "# search in the array and return the index of the element\n",
    "res = np.where(arr == 3)\n",
    "\n",
    "print(res)"
   ]
  },
  {
   "cell_type": "code",
   "execution_count": 16,
   "id": "144f10bc-95af-4d94-b216-46b60cb7e9fe",
   "metadata": {},
   "outputs": [
    {
     "name": "stdout",
     "output_type": "stream",
     "text": [
      "(array([1]),)\n"
     ]
    }
   ],
   "source": [
    "arr = np.array([4, 2, 3, 4, 5, 4, 3])\n",
    "\n",
    "# search in the array and return the index of the element\n",
    "res = np.where(arr == 2)\n",
    "\n",
    "print(res)"
   ]
  },
  {
   "cell_type": "code",
   "execution_count": 17,
   "id": "f3b7ceec-e8ae-4386-92b6-bc1ee8a6280f",
   "metadata": {},
   "outputs": [
    {
     "name": "stdout",
     "output_type": "stream",
     "text": [
      "(array([3, 4, 5, 6, 7]),)\n"
     ]
    }
   ],
   "source": [
    "arr = np.array([1, 2, 3, 4, 5, 6, 7, 8])\n",
    "\n",
    "res = np.where(arr >=4)\n",
    "\n",
    "print(res)"
   ]
  },
  {
   "cell_type": "code",
   "execution_count": 18,
   "id": "9f15a17e-85ee-40c8-b286-63aaf704ea38",
   "metadata": {},
   "outputs": [
    {
     "name": "stdout",
     "output_type": "stream",
     "text": [
      "(array([0, 1]), array([1, 3]))\n"
     ]
    }
   ],
   "source": [
    "# 2D array\n",
    "arr = np.array([[1, 8, 3, 4], [5, 6, 7, 8]])\n",
    "\n",
    "res = np.where(arr == 8)\n",
    "\n",
    "print(res)"
   ]
  },
  {
   "cell_type": "markdown",
   "id": "2e79b40d-b0a6-4185-a6f3-ee39c218c446",
   "metadata": {},
   "source": [
    "### searchsorted()"
   ]
  },
  {
   "cell_type": "code",
   "execution_count": 25,
   "id": "9b7bfe28-2bef-4c76-ac10-69afe4b00341",
   "metadata": {},
   "outputs": [
    {
     "name": "stdout",
     "output_type": "stream",
     "text": [
      "2\n"
     ]
    }
   ],
   "source": [
    "arr = np.array([6, 7, 8, 9])\n",
    "\n",
    "res = np.searchsorted(arr, 8)\n",
    "\n",
    "print(res)"
   ]
  },
  {
   "cell_type": "code",
   "execution_count": 26,
   "id": "c76cb4f7-0a4d-45e7-83e6-9b4a4e035649",
   "metadata": {},
   "outputs": [
    {
     "name": "stdout",
     "output_type": "stream",
     "text": [
      "4\n"
     ]
    }
   ],
   "source": [
    "arr = np.array([6, 7, 8, 9])\n",
    "\n",
    "res = np.searchsorted(arr, 10)\n",
    "\n",
    "print(res)"
   ]
  },
  {
   "cell_type": "code",
   "execution_count": 27,
   "id": "c2801bfc-655f-496e-9575-54548a9d1ed3",
   "metadata": {},
   "outputs": [
    {
     "name": "stdout",
     "output_type": "stream",
     "text": [
      "[1, 2, 2, 3, 3, 3, 4, 5, 6, 6]\n",
      "left-most index\n",
      "6\n"
     ]
    }
   ],
   "source": [
    "arr = [1, 2, 2, 3, 3, 3, 4, 5, 6, 6] \n",
    "print(arr) \n",
    "  \n",
    "# left-most 4 \n",
    "print(\"left-most index\") \n",
    "print(np.searchsorted(arr, 4, side=\"left\"))   "
   ]
  },
  {
   "cell_type": "code",
   "execution_count": 28,
   "id": "79d08a60-f33b-4700-ad50-030f356ad2b3",
   "metadata": {},
   "outputs": [
    {
     "name": "stdout",
     "output_type": "stream",
     "text": [
      "[1, 2, 2, 3, 3, 3, 4, 5, 6, 6]\n",
      "right-most index\n",
      "7\n"
     ]
    }
   ],
   "source": [
    "arr = [1, 2, 2, 3, 3, 3, 4, 5, 6, 6] ## sorted from right = [6,6,5,4,3,3,3,2,2,1]\n",
    "print(arr) \n",
    "\n",
    "# right-most 4 \n",
    "print(\"right-most index\")\n",
    "print(np.searchsorted(arr, 4, side=\"right\"))"
   ]
  },
  {
   "cell_type": "code",
   "execution_count": 32,
   "id": "e3fd265d-aca9-4d36-9bbd-155998bb7c63",
   "metadata": {},
   "outputs": [
    {
     "name": "stdout",
     "output_type": "stream",
     "text": [
      "2\n"
     ]
    }
   ],
   "source": [
    "arr = np.array([6, 7, 8, 9]) ## sorted from right = [9,8,7,6]\n",
    "\n",
    "x = np.searchsorted(arr, 7, side='right')\n",
    "\n",
    "print(x)\n"
   ]
  },
  {
   "cell_type": "code",
   "execution_count": 33,
   "id": "67d086b2-3ba0-418d-8d86-bef80463b8bd",
   "metadata": {},
   "outputs": [
    {
     "name": "stdout",
     "output_type": "stream",
     "text": [
      "[1 2 3]\n"
     ]
    }
   ],
   "source": [
    "arr = np.array([1, 3, 5, 7]) \n",
    "\n",
    "# search multiple values\n",
    "res = np.searchsorted(arr, [2, 4, 6])  ## arr = [1,2,3,4,5,6,7]\n",
    "\n",
    "print(res)"
   ]
  },
  {
   "cell_type": "markdown",
   "id": "fd8bb7fb-d234-4f72-892c-37364fa7f982",
   "metadata": {},
   "source": [
    "## Numpy Sort"
   ]
  },
  {
   "cell_type": "code",
   "execution_count": 10,
   "id": "36840583-ce14-40e8-88cd-044234a0a6ae",
   "metadata": {},
   "outputs": [],
   "source": [
    "import numpy as np"
   ]
  },
  {
   "cell_type": "markdown",
   "id": "37d91304-aeb1-43c7-9d11-472b1293e2c8",
   "metadata": {},
   "source": [
    "### sort()"
   ]
  },
  {
   "cell_type": "code",
   "execution_count": 34,
   "id": "9e147a6a-7a78-49a5-a751-2443c130684b",
   "metadata": {},
   "outputs": [
    {
     "name": "stdout",
     "output_type": "stream",
     "text": [
      "[0 1 2 3]\n",
      "[3 2 0 1]\n"
     ]
    }
   ],
   "source": [
    "arr = np.array([3, 2, 0, 1])\n",
    "# sort the array without changing the original array\n",
    "print(np.sort(arr))\n",
    "print(arr)"
   ]
  },
  {
   "cell_type": "code",
   "execution_count": 35,
   "id": "61fbcfe3-4a56-4ae2-8fac-2467de066b19",
   "metadata": {},
   "outputs": [
    {
     "name": "stdout",
     "output_type": "stream",
     "text": [
      "['White' 'blue' 'brown' 'red' 'white']\n"
     ]
    }
   ],
   "source": [
    "arr = np.array(['red', 'White', 'blue', 'white', 'brown'])\n",
    "\n",
    "print(np.sort(arr))"
   ]
  },
  {
   "cell_type": "code",
   "execution_count": 36,
   "id": "6eca27de-9c02-4f60-9d14-1b1c91d1ceea",
   "metadata": {},
   "outputs": [
    {
     "name": "stdout",
     "output_type": "stream",
     "text": [
      "[False False  True  True]\n"
     ]
    }
   ],
   "source": [
    "arr = np.array([True, False, True, False])\n",
    "\n",
    "print(np.sort(arr))"
   ]
  },
  {
   "cell_type": "code",
   "execution_count": 37,
   "id": "defbb04d-4cc2-4ee5-9ff4-cba0e5f24d91",
   "metadata": {},
   "outputs": [
    {
     "name": "stdout",
     "output_type": "stream",
     "text": [
      "[[2 3 4]\n",
      " [0 1 5]]\n"
     ]
    }
   ],
   "source": [
    "arr = np.array([[3, 2, 4], [5, 0, 1]])\n",
    "\n",
    "# 2d Array sort\n",
    "print(np.sort(arr))"
   ]
  },
  {
   "cell_type": "code",
   "execution_count": 38,
   "id": "e7adefd6-0b2b-4d6a-a1ec-1d9d7e609320",
   "metadata": {},
   "outputs": [
    {
     "name": "stdout",
     "output_type": "stream",
     "text": [
      "Sort along column axis : \n",
      " [[ 8  1]\n",
      " [10 15]]\n"
     ]
    }
   ],
   "source": [
    "# sort along the first axis\n",
    "a = np.array([[8, 15], [10, 1]])\n",
    "arr1 = np.sort(a, axis = 0)        \n",
    "print (\"Sort along column axis : \\n\", arr1)        "
   ]
  },
  {
   "cell_type": "code",
   "execution_count": 39,
   "id": "1afc4a79-5485-4af5-a0fb-3d2b7b6b5f2a",
   "metadata": {},
   "outputs": [
    {
     "name": "stdout",
     "output_type": "stream",
     "text": [
      "Sort along row axis : \n",
      " [[10 15]\n",
      " [ 1 12]]\n"
     ]
    }
   ],
   "source": [
    "# sort along the last axis\n",
    "a = np.array([[15, 10], [12, 1]])\n",
    "arr2 = np.sort(a, axis = -1)        \n",
    "print (\"Sort along row axis : \\n\", arr2)"
   ]
  },
  {
   "cell_type": "code",
   "execution_count": 40,
   "id": "de2d94c5-9587-43fb-87ad-1ef49c4c6565",
   "metadata": {},
   "outputs": [
    {
     "name": "stdout",
     "output_type": "stream",
     "text": [
      "General sort : \n",
      " [ 1 10 10 15]\n"
     ]
    }
   ],
   "source": [
    " a = np.array([[15, 10], [10, 1]])\n",
    "arr3 = np.sort(a, axis = None)        \n",
    "print (\"General sort : \\n\", arr3)"
   ]
  },
  {
   "cell_type": "code",
   "execution_count": null,
   "id": "3674470e-514e-4e40-8079-81c0941a04d4",
   "metadata": {},
   "outputs": [],
   "source": []
  }
 ],
 "metadata": {
  "kernelspec": {
   "display_name": "Python 3 (ipykernel)",
   "language": "python",
   "name": "python3"
  },
  "language_info": {
   "codemirror_mode": {
    "name": "ipython",
    "version": 3
   },
   "file_extension": ".py",
   "mimetype": "text/x-python",
   "name": "python",
   "nbconvert_exporter": "python",
   "pygments_lexer": "ipython3",
   "version": "3.12.5"
  }
 },
 "nbformat": 4,
 "nbformat_minor": 5
}
