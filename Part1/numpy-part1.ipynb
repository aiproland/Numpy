{
 "cells": [
  {
   "cell_type": "code",
   "execution_count": 1,
   "id": "11c762fb-44c2-4feb-bdf0-c262f529ebf4",
   "metadata": {},
   "outputs": [],
   "source": [
    "import numpy as np"
   ]
  },
  {
   "cell_type": "code",
   "execution_count": 2,
   "id": "bc65ca7c-0e05-40a9-a03e-f9fb50fbaa8e",
   "metadata": {},
   "outputs": [],
   "source": [
    "# create a 0D Array\n",
    "arr0 = np.array(56)"
   ]
  },
  {
   "cell_type": "code",
   "execution_count": 3,
   "id": "096d04e3-9f50-4239-9ec3-333aee2e8a18",
   "metadata": {},
   "outputs": [
    {
     "name": "stdout",
     "output_type": "stream",
     "text": [
      "56\n"
     ]
    }
   ],
   "source": [
    "print(arr1)"
   ]
  },
  {
   "cell_type": "code",
   "execution_count": 4,
   "id": "205b023e-5a02-487e-8568-f67cea515fa7",
   "metadata": {},
   "outputs": [],
   "source": [
    "# create a 1D Array\n",
    "arr1 = np.array([4,7,3,5])"
   ]
  },
  {
   "cell_type": "code",
   "execution_count": 5,
   "id": "8a4b78e0-6585-4072-8070-63acdde38023",
   "metadata": {},
   "outputs": [
    {
     "name": "stdout",
     "output_type": "stream",
     "text": [
      "[4 7 3 5]\n"
     ]
    }
   ],
   "source": [
    "print(arr1)"
   ]
  },
  {
   "cell_type": "code",
   "execution_count": 6,
   "id": "baf359cf-8703-4674-bc07-3c8974f23b4a",
   "metadata": {},
   "outputs": [
    {
     "name": "stdout",
     "output_type": "stream",
     "text": [
      "[[100 200 300]\n",
      " [ 10  20  30]]\n"
     ]
    }
   ],
   "source": [
    "# create a 2D Array\n",
    "arr2 = np.array([[100,200,300],[10,20,30]])\n",
    "print(arr2)"
   ]
  },
  {
   "cell_type": "code",
   "execution_count": 8,
   "id": "f6396155-48d7-4968-b049-9eaf5ac3911e",
   "metadata": {},
   "outputs": [
    {
     "name": "stdout",
     "output_type": "stream",
     "text": [
      "[[[1 2]\n",
      "  [3 4]\n",
      "  [5 6]]]\n"
     ]
    }
   ],
   "source": [
    "# create a 3D Array\n",
    "arr3 = np.array([[[1,2],[3,4],[5,6]]])\n",
    "print(arr3)"
   ]
  },
  {
   "cell_type": "code",
   "execution_count": 21,
   "id": "f4ed30f0-c996-46aa-9ebd-8b662439c968",
   "metadata": {},
   "outputs": [
    {
     "name": "stdout",
     "output_type": "stream",
     "text": [
      "[[[1 2 8]\n",
      "  [1 2 5]\n",
      "  [1 2 3]\n",
      "  [1 3 2]]]\n"
     ]
    }
   ],
   "source": [
    "arr3new = np.array([[[1,2,8],[1,2,5],[1,2,3],[1,3,2]]])\n",
    "print(arr3new)"
   ]
  },
  {
   "cell_type": "code",
   "execution_count": 22,
   "id": "ad25bfb6-8b53-4f4f-984f-0846f467e2ee",
   "metadata": {},
   "outputs": [
    {
     "name": "stdout",
     "output_type": "stream",
     "text": [
      "(1, 4, 3)\n"
     ]
    }
   ],
   "source": [
    "print(arr3new.shape)"
   ]
  },
  {
   "cell_type": "code",
   "execution_count": 25,
   "id": "81ab8ebd-1e47-491d-ae45-e14943c699da",
   "metadata": {},
   "outputs": [
    {
     "name": "stdout",
     "output_type": "stream",
     "text": [
      "4\n"
     ]
    }
   ],
   "source": [
    "print(arr1.size)"
   ]
  },
  {
   "cell_type": "code",
   "execution_count": 28,
   "id": "a8bb56d1-5e8f-4bdd-8e83-55d1437e7c6e",
   "metadata": {},
   "outputs": [
    {
     "name": "stdout",
     "output_type": "stream",
     "text": [
      "int64\n"
     ]
    }
   ],
   "source": [
    "print(arr3.dtype)"
   ]
  },
  {
   "cell_type": "code",
   "execution_count": 34,
   "id": "39db8868-faf9-4e8f-beb6-6b5ee7f8b2d8",
   "metadata": {},
   "outputs": [
    {
     "name": "stdout",
     "output_type": "stream",
     "text": [
      "['a' 'd' 'xhugde']\n"
     ]
    }
   ],
   "source": [
    "arrstr = np.array(['a','d','xhugde'])\n",
    "print(arrstr)"
   ]
  },
  {
   "cell_type": "code",
   "execution_count": 35,
   "id": "72a9387c-0d35-49a1-865e-621bb8bb280d",
   "metadata": {},
   "outputs": [
    {
     "name": "stdout",
     "output_type": "stream",
     "text": [
      "<U6\n"
     ]
    }
   ],
   "source": [
    "print(arrstr.dtype)"
   ]
  },
  {
   "cell_type": "code",
   "execution_count": 42,
   "id": "bd454e33-fcda-4325-8d1e-09c4b053a310",
   "metadata": {},
   "outputs": [
    {
     "name": "stdout",
     "output_type": "stream",
     "text": [
      "1\n"
     ]
    }
   ],
   "source": [
    "print(arrstr.ndim)"
   ]
  },
  {
   "cell_type": "code",
   "execution_count": 57,
   "id": "72f8d862-3801-4f26-93f3-dc977c48af71",
   "metadata": {},
   "outputs": [],
   "source": [
    "arr1 = np.array([4,7,3,5])"
   ]
  },
  {
   "cell_type": "code",
   "execution_count": 58,
   "id": "9514d3e4-92d5-40bf-97b6-bcdb055cf192",
   "metadata": {},
   "outputs": [
    {
     "name": "stdout",
     "output_type": "stream",
     "text": [
      "(4,)\n"
     ]
    }
   ],
   "source": [
    "print(arr1.shape)"
   ]
  },
  {
   "cell_type": "code",
   "execution_count": 68,
   "id": "5bc2a0c6-4372-4576-857b-08e36914e777",
   "metadata": {},
   "outputs": [
    {
     "name": "stdout",
     "output_type": "stream",
     "text": [
      "[[[4]\n",
      "  [7]\n",
      "  [3]\n",
      "  [5]]]\n"
     ]
    }
   ],
   "source": [
    "arr1_reshape = arr1.reshape(1,4,1)\n",
    "print(arr1_reshape)"
   ]
  },
  {
   "cell_type": "code",
   "execution_count": 69,
   "id": "3cf5930f-fa22-40c1-a221-8b25cbb72249",
   "metadata": {},
   "outputs": [
    {
     "name": "stdout",
     "output_type": "stream",
     "text": [
      "(1, 4, 1)\n"
     ]
    }
   ],
   "source": [
    "print(arr1_reshape.shape)"
   ]
  },
  {
   "cell_type": "code",
   "execution_count": 70,
   "id": "8aeffa52-bd9a-4152-a428-2b14a370fbce",
   "metadata": {},
   "outputs": [
    {
     "name": "stdout",
     "output_type": "stream",
     "text": [
      "[[[1 2]\n",
      "  [3 4]\n",
      "  [5 6]]]\n"
     ]
    }
   ],
   "source": [
    "arr3 = np.array([[[1,2],[3,4],[5,6]]])\n",
    "print(arr3)"
   ]
  },
  {
   "cell_type": "code",
   "execution_count": 72,
   "id": "906696b8-53fa-4fa1-b541-682d62b3ae9e",
   "metadata": {},
   "outputs": [
    {
     "name": "stdout",
     "output_type": "stream",
     "text": [
      "[[1 2]\n",
      " [3 4]\n",
      " [5 6]]\n"
     ]
    }
   ],
   "source": [
    "arr3_res = arr3.reshape(3,2)\n",
    "print(arr3_res)"
   ]
  },
  {
   "cell_type": "code",
   "execution_count": null,
   "id": "9aebe723-dd23-48e5-b59c-eeee66b75f2f",
   "metadata": {},
   "outputs": [],
   "source": []
  }
 ],
 "metadata": {
  "kernelspec": {
   "display_name": "Python 3 (ipykernel)",
   "language": "python",
   "name": "python3"
  },
  "language_info": {
   "codemirror_mode": {
    "name": "ipython",
    "version": 3
   },
   "file_extension": ".py",
   "mimetype": "text/x-python",
   "name": "python",
   "nbconvert_exporter": "python",
   "pygments_lexer": "ipython3",
   "version": "3.12.5"
  }
 },
 "nbformat": 4,
 "nbformat_minor": 5
}
