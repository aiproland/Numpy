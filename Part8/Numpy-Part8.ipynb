{
 "cells": [
  {
   "cell_type": "markdown",
   "id": "9994988c-2c17-4ede-b052-717771c65282",
   "metadata": {},
   "source": [
    "## Numpy Copy vs. View"
   ]
  },
  {
   "cell_type": "code",
   "execution_count": 6,
   "id": "47d3db85-c153-4ef8-9864-242973b14110",
   "metadata": {},
   "outputs": [],
   "source": [
    "import numpy as np"
   ]
  },
  {
   "cell_type": "markdown",
   "id": "d1c81b40-86a6-4bd2-b270-88debfab5579",
   "metadata": {},
   "source": [
    "### copy()\n",
    "\n",
    "#### creates a copy of array. Any changes won't affect the other array\n",
    "#### The original array and the view array are INDEPENDANT"
   ]
  },
  {
   "cell_type": "code",
   "execution_count": 7,
   "id": "e00b2c36-9331-4511-8ac6-386a9b47ef98",
   "metadata": {},
   "outputs": [
    {
     "name": "stdout",
     "output_type": "stream",
     "text": [
      " Original array : [11 12 17 14 10]\n",
      " copied array : [15 12 17 14 10]\n"
     ]
    }
   ],
   "source": [
    "arr = np.array([15, 12, 17, 14, 10]) # original\n",
    "copy_arr = arr.copy()\n",
    "\n",
    "# change the original array\n",
    "arr[0] = 11\n",
    "\n",
    "print(\" Original array :\", arr)\n",
    "print(\" copied array :\", copy_arr)"
   ]
  },
  {
   "cell_type": "code",
   "execution_count": 8,
   "id": "1063912a-c99f-44aa-85bb-de8330c582b6",
   "metadata": {},
   "outputs": [
    {
     "name": "stdout",
     "output_type": "stream",
     "text": [
      " Original array : [15 12 17 14 10]\n",
      " copied array : [11 12 17 14 10]\n"
     ]
    }
   ],
   "source": [
    "arr = np.array([15, 12, 17, 14, 10]) # orginal\n",
    "copy_arr = arr.copy()\n",
    "\n",
    "# change the copy array\n",
    "copy_arr[0] = 11\n",
    "\n",
    "print(\" Original array :\", arr)\n",
    "print(\" copied array :\", copy_arr)"
   ]
  },
  {
   "cell_type": "markdown",
   "id": "c1798801-c9f9-40d7-b40d-0b3a124e8ba2",
   "metadata": {},
   "source": [
    "## view()\n",
    "#### creates a copy of array. Any changes affect the other array\n",
    "#### The original array and the view array are DEPENDANT"
   ]
  },
  {
   "cell_type": "code",
   "execution_count": 9,
   "id": "e449c527-8a7c-4940-84dc-1f5712bab433",
   "metadata": {},
   "outputs": [
    {
     "name": "stdout",
     "output_type": "stream",
     "text": [
      " Original array : [11 12 17 14 10]\n",
      " viewed array : [11 12 17 14 10]\n"
     ]
    }
   ],
   "source": [
    "arr = np.array([15, 12, 17, 14, 10])\n",
    "view_arr = arr.view()\n",
    "arr[0] = 11\n",
    "\n",
    "# change the original array\n",
    "print(\" Original array :\", arr)\n",
    "print(\" viewed array :\", view_arr)"
   ]
  },
  {
   "cell_type": "code",
   "execution_count": 10,
   "id": "29957b6b-6b13-4c81-bcf9-d8611bd86bb3",
   "metadata": {},
   "outputs": [
    {
     "name": "stdout",
     "output_type": "stream",
     "text": [
      " Original array : [11 12 17 14 10]\n",
      " viewed array : [11 12 17 14 10]\n"
     ]
    }
   ],
   "source": [
    "arr = np.array([15, 12, 17, 14, 10])\n",
    "view_arr = arr.view()\n",
    "view_arr[0] = 11\n",
    "\n",
    "# change the view array\n",
    "print(\" Original array :\", arr)\n",
    "print(\" viewed array :\", view_arr)"
   ]
  },
  {
   "cell_type": "markdown",
   "id": "1bf6b354-5751-45b6-930b-70e2b09475fd",
   "metadata": {},
   "source": [
    "### base()\n",
    "#### base() returns NONE for a copy array and returns the ORIGINAL ARRAY for the view array"
   ]
  },
  {
   "cell_type": "code",
   "execution_count": 11,
   "id": "874c0bec-e42f-458d-943e-b6261f6866d2",
   "metadata": {},
   "outputs": [
    {
     "name": "stdout",
     "output_type": "stream",
     "text": [
      "None\n",
      "[15 12 17 14 10]\n"
     ]
    }
   ],
   "source": [
    "arr = np.array([15, 12, 17, 14, 10])\n",
    "\n",
    "copy_arr = arr.copy()\n",
    "view_arr = arr.view()\n",
    "\n",
    "print(copy_arr.base)\n",
    "print(view_arr.base)"
   ]
  },
  {
   "cell_type": "code",
   "execution_count": 12,
   "id": "a5ddfdcf-f8f6-4905-b5ee-827d390877a2",
   "metadata": {},
   "outputs": [
    {
     "name": "stdout",
     "output_type": "stream",
     "text": [
      "None\n"
     ]
    }
   ],
   "source": [
    "print(arr.base)"
   ]
  },
  {
   "cell_type": "code",
   "execution_count": null,
   "id": "71186211-2f53-476c-b791-68542f155129",
   "metadata": {},
   "outputs": [],
   "source": []
  }
 ],
 "metadata": {
  "kernelspec": {
   "display_name": "Python 3 (ipykernel)",
   "language": "python",
   "name": "python3"
  },
  "language_info": {
   "codemirror_mode": {
    "name": "ipython",
    "version": 3
   },
   "file_extension": ".py",
   "mimetype": "text/x-python",
   "name": "python",
   "nbconvert_exporter": "python",
   "pygments_lexer": "ipython3",
   "version": "3.12.5"
  }
 },
 "nbformat": 4,
 "nbformat_minor": 5
}
