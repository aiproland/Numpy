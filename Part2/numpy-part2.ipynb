{
 "cells": [
  {
   "cell_type": "code",
   "execution_count": 2,
   "id": "8ff90d1f-2a6c-4750-9510-b66f1d8c7771",
   "metadata": {},
   "outputs": [],
   "source": [
    "import numpy as np\n",
    "import time"
   ]
  },
  {
   "cell_type": "markdown",
   "id": "ecbd9c7d-8d61-4453-a585-0295e3aa890f",
   "metadata": {},
   "source": [
    "#### Create Python List vs. Numpy Array"
   ]
  },
  {
   "cell_type": "code",
   "execution_count": 4,
   "id": "e2863c71-2458-4fd0-970e-ab214f689121",
   "metadata": {},
   "outputs": [
    {
     "name": "stdout",
     "output_type": "stream",
     "text": [
      "<class 'list'>\n",
      "<class 'numpy.ndarray'>\n"
     ]
    }
   ],
   "source": [
    "#python list\n",
    "plist = [1,2,3,4]\n",
    "#numpy array\n",
    "nparray = np.array([1,2,3,4])\n",
    "\n",
    "print(type(plist))\n",
    "print(type(nparray))"
   ]
  },
  {
   "cell_type": "markdown",
   "id": "57ba9fba-a75b-49f6-8600-c945b0299b6d",
   "metadata": {},
   "source": [
    "#### Compare Run Time between Python Lists and NP Arrays"
   ]
  },
  {
   "cell_type": "code",
   "execution_count": 9,
   "id": "188104cb-3f82-41cc-822a-27d026fd48ed",
   "metadata": {},
   "outputs": [
    {
     "name": "stdout",
     "output_type": "stream",
     "text": [
      "49999995000000 time: 0.08694624900817871\n"
     ]
    }
   ],
   "source": [
    "pythonlist = list(range(10000000))\n",
    "\n",
    "#numpy array\n",
    "nprange = np.arange(10000000)\n",
    "\n",
    "start_time = time.time() # calcilate time since 1 Jan 1970 until now in seconds\n",
    "sumlist = sum(pythonlist)\n",
    "end_time = time.time()\n",
    "print(sumlist, \"time:\", end_time - start_time)"
   ]
  },
  {
   "cell_type": "code",
   "execution_count": 11,
   "id": "c96ed5f9-a749-460d-8c3c-80cec11b57c1",
   "metadata": {},
   "outputs": [
    {
     "name": "stdout",
     "output_type": "stream",
     "text": [
      "49999995000000 time: 0.009996414184570312\n"
     ]
    }
   ],
   "source": [
    "start_time = time.time() # calcilate time since 1 Jan 1970 until now in seconds\n",
    "sumnprange = np.sum(nprange)\n",
    "end_time = time.time()\n",
    "print(sumnprange, \"time:\", end_time - start_time)"
   ]
  },
  {
   "cell_type": "markdown",
   "id": "df457b89-44d7-40dd-80a4-e7b982eb2da0",
   "metadata": {},
   "source": [
    "#### Data Coercion in Numpy"
   ]
  },
  {
   "cell_type": "code",
   "execution_count": 14,
   "id": "8d375c88-24b0-4e19-80c5-dfc4f703a875",
   "metadata": {},
   "outputs": [
    {
     "name": "stdout",
     "output_type": "stream",
     "text": [
      "['34' '89.4' 'hello']\n"
     ]
    }
   ],
   "source": [
    "nparray2 = np.array([34, 89.4, \"hello\"])\n",
    "print(nparray2)"
   ]
  },
  {
   "cell_type": "code",
   "execution_count": 15,
   "id": "50b5df3f-4d23-4b76-892e-d8533b464a43",
   "metadata": {},
   "outputs": [
    {
     "name": "stdout",
     "output_type": "stream",
     "text": [
      "<U32\n"
     ]
    }
   ],
   "source": [
    "print(nparray2.dtype)"
   ]
  },
  {
   "cell_type": "code",
   "execution_count": 16,
   "id": "671ff798-fc9d-40a4-91b9-4e81769ecf46",
   "metadata": {},
   "outputs": [
    {
     "name": "stdout",
     "output_type": "stream",
     "text": [
      "[34.  89.4 45. ]\n"
     ]
    }
   ],
   "source": [
    "nparray3 = np.array([34, 89.4, 45])\n",
    "print(nparray3)"
   ]
  },
  {
   "cell_type": "code",
   "execution_count": 17,
   "id": "9d10a783-f097-41f2-a32e-fee6f821ce9d",
   "metadata": {},
   "outputs": [
    {
     "name": "stdout",
     "output_type": "stream",
     "text": [
      "float64\n"
     ]
    }
   ],
   "source": [
    "print(nparray3.dtype)"
   ]
  },
  {
   "cell_type": "markdown",
   "id": "1b335ddd-7741-4f36-811c-001cb75241f8",
   "metadata": {},
   "source": [
    "#### Element-Wise Operations in Numpy Arrays"
   ]
  },
  {
   "cell_type": "code",
   "execution_count": 18,
   "id": "6bf2a8f7-7f46-47c6-973e-8f3fe52a9b6e",
   "metadata": {},
   "outputs": [
    {
     "name": "stdout",
     "output_type": "stream",
     "text": [
      "[1, 2, 3, 4, 1, 2, 3, 4]\n"
     ]
    }
   ],
   "source": [
    "plist = [1,2,3,4]\n",
    "nparray = np.array([1,2,3,4])\n",
    "plist2 = plist*2\n",
    "print(plist2)"
   ]
  },
  {
   "cell_type": "code",
   "execution_count": 19,
   "id": "23a572a7-84b0-460e-9d0c-d36d26bde7fc",
   "metadata": {},
   "outputs": [
    {
     "name": "stdout",
     "output_type": "stream",
     "text": [
      "[2 4 6 8]\n"
     ]
    }
   ],
   "source": [
    "nparray2 = nparray*2\n",
    "print(nparray2)"
   ]
  },
  {
   "cell_type": "code",
   "execution_count": 20,
   "id": "cd475d46-a445-4d2b-b22a-54a2d24c4381",
   "metadata": {},
   "outputs": [
    {
     "name": "stdout",
     "output_type": "stream",
     "text": [
      "2\n",
      "4\n",
      "6\n",
      "8\n"
     ]
    }
   ],
   "source": [
    "for i in plist:\n",
    "    print(i*2)"
   ]
  },
  {
   "cell_type": "code",
   "execution_count": 21,
   "id": "147defe7-07eb-4ef0-9077-d0687ece32ae",
   "metadata": {},
   "outputs": [
    {
     "name": "stdout",
     "output_type": "stream",
     "text": [
      "[2, 4, 6, 8]\n"
     ]
    }
   ],
   "source": [
    "res = [i*2 for i in plist]\n",
    "print(res)"
   ]
  },
  {
   "cell_type": "code",
   "execution_count": null,
   "id": "3997b974-dc4d-432b-be5f-d1894905125f",
   "metadata": {},
   "outputs": [],
   "source": []
  }
 ],
 "metadata": {
  "kernelspec": {
   "display_name": "Python 3 (ipykernel)",
   "language": "python",
   "name": "python3"
  },
  "language_info": {
   "codemirror_mode": {
    "name": "ipython",
    "version": 3
   },
   "file_extension": ".py",
   "mimetype": "text/x-python",
   "name": "python",
   "nbconvert_exporter": "python",
   "pygments_lexer": "ipython3",
   "version": "3.12.5"
  }
 },
 "nbformat": 4,
 "nbformat_minor": 5
}
